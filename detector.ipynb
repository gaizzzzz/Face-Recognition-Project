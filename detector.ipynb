{
 "cells": [
  {
   "cell_type": "code",
   "execution_count": null,
   "metadata": {},
   "outputs": [],
   "source": [
    "from pathlib import Path"
   ]
  },
  {
   "cell_type": "markdown",
   "metadata": {},
   "source": [
    "# Parameters"
   ]
  },
  {
   "cell_type": "code",
   "execution_count": null,
   "metadata": {},
   "outputs": [],
   "source": [
    "# parameters\n",
    "BOUNDING_BOX_COLOR = \"blue\"\n",
    "TEXT_COLOR = \"white\"\n",
    "\n",
    "DEFAULT_ENCODINGS_PATH = Path(\"output/encoding.pkl\")"
   ]
  },
  {
   "cell_type": "markdown",
   "metadata": {},
   "source": [
    "# Create command-line interface"
   ]
  },
  {
   "cell_type": "code",
   "execution_count": null,
   "metadata": {},
   "outputs": [],
   "source": [
    "import argparse\n",
    "\n",
    "# add command-line arguments\n",
    "parser = argparse.ArgumentParser(description = \"Recognize face in an image\")\n",
    "parser.add_argument(\"--train\", action = \"store_true\", help = \"Train on input data\")\n",
    "parser.add_argument(\n",
    "    \"--validate\", action = \"store_true\", help = \"Validate trained model\"\n",
    ")\n",
    "parser.add_argument(\n",
    "    \"--test\", action = \"store_true\", help = \"Test the model with an unknown image\"\n",
    ")\n",
    "parser.add_argument(\n",
    "    \"-m\",\n",
    "    action = \"store\",\n",
    "    default = \"hog\",\n",
    "    choices = [\"hog\", \"cnn\"],\n",
    "    help = \"Which model to use for training: hog (CPU), cnn (GPU)\",\n",
    ")\n",
    "parser.add_argument(\n",
    "    \"-f\", action = \"store\", help = \"Path to an image with an unknown face\"\n",
    ")\n",
    "args = parser.parse_args()"
   ]
  },
  {
   "cell_type": "markdown",
   "metadata": {},
   "source": [
    "# Training model"
   ]
  },
  {
   "cell_type": "code",
   "execution_count": null,
   "metadata": {},
   "outputs": [],
   "source": [
    "import face_recognition\n",
    "import pickle\n",
    "\n",
    "Path(\"training\").mkdir(exist_ok = True)\n",
    "Path(\"validation\").mkdir(exist_ok = True)\n",
    "Path(\"output\").mkdir(exist_ok = True)\n",
    "\n",
    "def encode_known_faces(\n",
    "    model: str = \"hog\", encodings_location: Path = DEFAULT_ENCODINGS_PATH # hog = histogram of oriented gradients\n",
    ") -> None:\n",
    "    names = []\n",
    "    encodings = []\n",
    "\n",
    "    for filepath in Path(\"training\").glob(\"*/*\"):\n",
    "        name = filepath.parent.name\n",
    "        image = face_recognition.load_image_file(filepath)\n",
    "\n",
    "        face_locations = face_recognition.face_locations(image, model = model)\n",
    "        face_encodings = face_recognition.face_encodings(image, face_locations)\n",
    "\n",
    "        for encoding in face_encodings:\n",
    "            names.append(name)\n",
    "            encodings.append(encoding)\n",
    "        \n",
    "    name_encodings = {\"names\": names, \"encodings\": encodings}\n",
    "    with encodings_location.open(mode = \"wb\") as f:\n",
    "        pickle.dump(name_encodings, f)"
   ]
  },
  {
   "cell_type": "markdown",
   "metadata": {},
   "source": [
    "## Non-public functions for testing and drawing"
   ]
  },
  {
   "cell_type": "code",
   "execution_count": null,
   "metadata": {},
   "outputs": [],
   "source": [
    "from collections import Counter\n",
    "from PIL import Image, ImageDraw\n",
    "\n",
    "def _recognize_face(unknown_encoding, loaded_encodings):\n",
    "    boolean_matches = face_recognition.compare_faces(\n",
    "        loaded_encodings[\"encodings\"], unknown_encoding\n",
    "    )\n",
    "    votes = Counter(\n",
    "        name\n",
    "        for match, name in zip(boolean_matches, loaded_encodings[\"names\"])\n",
    "        if match\n",
    "    )\n",
    "    if votes:\n",
    "        return votes.most_common(1)[0][0]\n",
    "\n",
    "def _display_face(draw, bounding_box, name):\n",
    "    top, right, bottom, left = bounding_box\n",
    "    draw.rectangle(((left, top), (right, bottom)), outline = BOUNDING_BOX_COLOR)\n",
    "    text_left, text_top, text_right, text_bottom = draw.textbbox(\n",
    "        (left, bottom), name\n",
    "    )\n",
    "    draw.rectangle(\n",
    "        ((text_left, text_top), (text_right, text_bottom)),\n",
    "        fill = \"blue\",\n",
    "        outline = \"blue\"\n",
    "    )\n",
    "    draw.text(\n",
    "        (text_left, text_top),\n",
    "        name,\n",
    "        fill = TEXT_COLOR,\n",
    "    )"
   ]
  },
  {
   "cell_type": "markdown",
   "metadata": {},
   "source": [
    "## Recognize faces and Draw bounding box for each face"
   ]
  },
  {
   "cell_type": "code",
   "execution_count": null,
   "metadata": {},
   "outputs": [],
   "source": [
    "def recognize_faces(\n",
    "    image_location: str,\n",
    "    model: str = \"hog\",\n",
    "    encodings_location: Path = DEFAULT_ENCODINGS_PATH\n",
    ") -> None:\n",
    "    with encodings_location.open(mode = \"rb\") as f:\n",
    "        loaded_encodings = pickle.load(f) # load encodings from directory\n",
    "\n",
    "    input_image = face_recognition.load_image_file(image_location)\n",
    "\n",
    "    input_face_locations = face_recognition.face_locations(\n",
    "        input_image, model = model\n",
    "    )\n",
    "    input_face_encodings = face_recognition.face_encodings(\n",
    "        input_image, input_face_locations\n",
    "    )\n",
    "\n",
    "    pillow_image = Image.fromarray(input_image)\n",
    "    draw = ImageDraw.Draw(pillow_image)\n",
    "\n",
    "    for bounding_box, unknown_encoding in zip(\n",
    "        input_face_locations, input_face_encodings\n",
    "    ):\n",
    "        name = _recognize_face(unknown_encoding, loaded_encodings)\n",
    "        if not name:\n",
    "            name = \"Unknown\"\n",
    "        # print(name, bounding_box)\n",
    "        _display_face(draw, bounding_box, name)\n",
    "\n",
    "    del draw\n",
    "    pillow_image.show()"
   ]
  },
  {
   "cell_type": "markdown",
   "metadata": {},
   "source": [
    "# Validation"
   ]
  },
  {
   "cell_type": "code",
   "execution_count": null,
   "metadata": {},
   "outputs": [],
   "source": [
    "def validate(model: str = \"hog\"):\n",
    "    for filepath in Path(\"validation\").rglob(\"*\"):\n",
    "        if filepath.is_file():\n",
    "            recognize_faces(\n",
    "                image_location = str(filepath.absolute()), \n",
    "                model = model\n",
    "            )"
   ]
  },
  {
   "cell_type": "code",
   "execution_count": null,
   "metadata": {},
   "outputs": [],
   "source": [
    "if __name__ == \"__main__\":\n",
    "    if args.train:\n",
    "        encode_known_faces(model = args.m)\n",
    "    if args.validate:\n",
    "        validate(model = args.m)\n",
    "    if args.test:\n",
    "        recognize_faces(image_location = args.f, model = args.m)"
   ]
  }
 ],
 "metadata": {
  "kernelspec": {
   "display_name": "Python 3",
   "language": "python",
   "name": "python3"
  },
  "language_info": {
   "codemirror_mode": {
    "name": "ipython",
    "version": 3
   },
   "file_extension": ".py",
   "mimetype": "text/x-python",
   "name": "python",
   "nbconvert_exporter": "python",
   "pygments_lexer": "ipython3",
   "version": "3.8.8"
  }
 },
 "nbformat": 4,
 "nbformat_minor": 2
}
